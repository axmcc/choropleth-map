{
 "cells": [
  {
   "cell_type": "markdown",
   "metadata": {},
   "source": [
    "# Create an interactive choropleth map\n",
    "_Source 1: https://data-dive.com/cologne-bike-rentals-interactive-map-bokeh _\n",
    "\n",
    "_Source 2: https://stackoverflow.com/questions/47489804/changing-colors-on-bokeh-patches-plot-real-time?rq=1 _"
   ]
  },
  {
   "cell_type": "code",
   "execution_count": 1,
   "metadata": {
    "collapsed": true
   },
   "outputs": [],
   "source": [
    "#Import general use libraries\n",
    "import geopandas as gpd\n",
    "import pandas as pd\n",
    "import fiona\n",
    "import numpy as np"
   ]
  },
  {
   "cell_type": "markdown",
   "metadata": {},
   "source": [
    "## 1. Creating the geodataframe"
   ]
  },
  {
   "cell_type": "code",
   "execution_count": 4,
   "metadata": {
    "collapsed": false
   },
   "outputs": [],
   "source": [
    "shape_file = 'cb_2016_us_county_5m\\cb_2016_us_county_5m.shp'\n",
    "counties = gpd.read_file(shape_file)\n",
    "\n",
    "#Drop all counties not in mainland USA for better visualization\n",
    "counties['STATEFP'] = counties['STATEFP'].apply(pd.to_numeric)\n",
    "counties = counties.loc[(counties['STATEFP']<=56)&(counties.STATEFP!=2) & (counties.STATEFP!=15)]\n",
    "\n",
    "file_path = 'cnty_education2011-16_exportable.xlsx'\n",
    "\n",
    "#Open data\n",
    "df = pd.DataFrame(pd.read_excel(file_path))\n"
   ]
  },
  {
   "cell_type": "code",
   "execution_count": 5,
   "metadata": {
    "collapsed": false
   },
   "outputs": [],
   "source": [
    "#Harmonize ID format between dataframes\n",
    "df['geo_id2'] = df['geo_id2'].apply(lambda x: str(x).zfill(5))\n",
    "df.rename(columns={'geo_id2': 'GEOID'}, inplace=True)\n",
    "df.set_index(df['GEOID'], inplace=True)\n",
    "\n",
    "counties['GEOID'] = counties['GEOID'].apply(lambda x: str(x))\n",
    "counties.set_index(counties['GEOID'], inplace=True)"
   ]
  },
  {
   "cell_type": "code",
   "execution_count": 6,
   "metadata": {
    "collapsed": false
   },
   "outputs": [],
   "source": [
    "#join dataframes\n",
    "df_merged_2011 = counties.join(df[df['year']==2011], how='left', lsuffix='_geo', rsuffix='_data')\n",
    "df_merged_2011['year'] = 2011\n",
    "df_merged_2012 = counties.join(df[df['year']==2012], how='left', lsuffix='_geo', rsuffix='_data')\n",
    "df_merged_2012['year'] = 2012\n",
    "df_merged_2013 = counties.join(df[df['year']==2013], how='left', lsuffix='_geo', rsuffix='_data')\n",
    "df_merged_2013['year'] = 2013\n",
    "df_merged_2014 = counties.join(df[df['year']==2014], how='left', lsuffix='_geo', rsuffix='_data')\n",
    "df_merged_2014['year'] = 2014\n",
    "df_merged_2015 = counties.join(df[df['year']==2015], how='left', lsuffix='_geo', rsuffix='_data')\n",
    "df_merged_2015['year'] = 2015\n",
    "df_merged_2016 = counties.join(df[df['year']==2016], how='left', lsuffix='_geo', rsuffix='_data')\n",
    "df_merged_2016['year'] = 2016\n",
    "\n",
    "df_merged = df_merged_2011.append(df_merged_2012).append(df_merged_2013).append(df_merged_2014).append(df_merged_2015).append(df_merged_2016)\n",
    "\n",
    "#Drop rows with no data\n",
    "#df_merged = df_merged[df_merged['HC02_EST_VC18'] == df_merged['HC02_EST_VC18']]"
   ]
  },
  {
   "cell_type": "code",
   "execution_count": 7,
   "metadata": {
    "collapsed": false
   },
   "outputs": [],
   "source": [
    "#Use to standarize values\n",
    "#df_merged['Bachelor degree or higher'] = (df_merged['Bachelor degree or higher'] - df_merged['Bachelor degree or higher'].mean(axis=0)) / df_merged['Bachelor degree or higher'].std(axis=0)"
   ]
  },
  {
   "cell_type": "markdown",
   "metadata": {},
   "source": [
    "#### Add State names to dataframe"
   ]
  },
  {
   "cell_type": "code",
   "execution_count": 8,
   "metadata": {
    "collapsed": false
   },
   "outputs": [],
   "source": [
    "#Import STATE-FIPS Code table\n",
    "fips_codes = 'State_FIPS.xlsx'\n",
    "state_names = pd.DataFrame(pd.read_excel(fips_codes))\n",
    "\n",
    "#Create code: name dictionary\n",
    "state_dict = dict(zip(state_names['FIPS State Numeric Code'], state_names['Name']))\n",
    "\n",
    "#Use dictionary to create new state name columnd in original dataframe\n",
    "df_merged['STATE_NAME'] = df_merged['STATEFP'].apply(lambda x: state_dict[x])\n",
    "df_merged_2011['STATE_NAME'] = df_merged_2011['STATEFP'].apply(lambda x: state_dict[x])\n"
   ]
  },
  {
   "cell_type": "markdown",
   "metadata": {},
   "source": [
    "_Note: there are two relevant dataframes at this point: _\n",
    "\n",
    "    (A) \"df merged\" contains all data; \n",
    "    (B) \"df merged 2011\" is a sliced version that only contains data for 2011 and will be used to create the basemap"
   ]
  },
  {
   "cell_type": "code",
   "execution_count": 9,
   "metadata": {
    "collapsed": false
   },
   "outputs": [],
   "source": [
    "#Save df_merged as a shapefile to open with Fiona in next step\n",
    "df_merged_2011.to_file(\"temp_geo_df.shp\")"
   ]
  },
  {
   "cell_type": "markdown",
   "metadata": {},
   "source": [
    "## 2. Create basemap using fiona and define source data\n",
    "_Geodataframe includes poligon data for each county per year. To avoid duplicate mapping, only the values of a single year are considered. _"
   ]
  },
  {
   "cell_type": "markdown",
   "metadata": {},
   "source": [
    "#### Creating basemap"
   ]
  },
  {
   "cell_type": "code",
   "execution_count": 10,
   "metadata": {
    "collapsed": false
   },
   "outputs": [],
   "source": [
    "#Open Shapefile\n",
    "shp = fiona.open(\"temp_geo_df.shp\")\n",
    "\n",
    "#Extract features from shapefile\n",
    "district_state = [ feat[\"properties\"][\"STATE_NAME\"] for feat in shp] \n",
    "district_name = [ feat[\"properties\"][\"NAME\"] for feat in shp]\n",
    "district_x = [ [x[0] for x in feat[\"geometry\"][\"coordinates\"][0]] for feat in shp]\n",
    "district_y = [ [y[1] for y in feat[\"geometry\"][\"coordinates\"][0]] for feat in shp]\n",
    "district_xy = [ [ xy for xy in feat[\"geometry\"][\"coordinates\"][0]] for feat in shp] \n",
    "district_poly = [ feat[\"geometry\"][\"coordinates\"][0] for feat in shp]"
   ]
  },
  {
   "cell_type": "markdown",
   "metadata": {},
   "source": [
    "#### Defining source data"
   ]
  },
  {
   "cell_type": "code",
   "execution_count": 11,
   "metadata": {
    "collapsed": false
   },
   "outputs": [],
   "source": [
    "#Change var type to enable elementwise comparison\n",
    "#Define function to remove superflous '.0' to avoid issues when converting to str\n",
    "def floatToString(inputValue):\n",
    "    return ('%.15f' % inputValue).rstrip('0').rstrip('.')\n",
    "\n",
    "df_merged['year'] = [floatToString(x) for x in df_merged['year']]\n"
   ]
  },
  {
   "cell_type": "code",
   "execution_count": 12,
   "metadata": {
    "collapsed": true
   },
   "outputs": [],
   "source": [
    "df_merged['Bachelor degree or higher'] = df_merged['Bachelor degree or higher'].replace('nan', '', regex=True)"
   ]
  },
  {
   "cell_type": "code",
   "execution_count": 13,
   "metadata": {
    "collapsed": true
   },
   "outputs": [],
   "source": [
    "#Create variable rate\n",
    "#Create dictionary to match rate index values to years\n",
    "dict_year = {0: '2011', 1: '2012', 2: '2013', 3: '2014', 4: '2015', 5: '2016'}\n",
    "\n",
    "rate = []"
   ]
  },
  {
   "cell_type": "code",
   "execution_count": 14,
   "metadata": {
    "collapsed": false
   },
   "outputs": [],
   "source": [
    "for i in range(0,6):\n",
    "    rate.append([i])\n",
    "    rate[i] = list(df_merged['Bachelor degree or higher'][df_merged['year']==dict_year[i]])"
   ]
  },
  {
   "cell_type": "code",
   "execution_count": 15,
   "metadata": {
    "collapsed": true
   },
   "outputs": [],
   "source": [
    "#Transform rate into a dict\n",
    "rate2 = {str(i): v for i, v in enumerate(rate,0)}"
   ]
  },
  {
   "cell_type": "code",
   "execution_count": 16,
   "metadata": {
    "collapsed": true
   },
   "outputs": [],
   "source": [
    "from bokeh.models import ColumnDataSource"
   ]
  },
  {
   "cell_type": "code",
   "execution_count": 17,
   "metadata": {
    "collapsed": true
   },
   "outputs": [],
   "source": [
    "data=dict(\n",
    "    x=district_x, \n",
    "    y=district_y,\n",
    "    name=district_name, \n",
    "    state=district_state,\n",
    "    rate=rate2['0'], **rate2)\n",
    "source = ColumnDataSource(data)"
   ]
  },
  {
   "cell_type": "markdown",
   "metadata": {},
   "source": [
    "## 3. Prepare interactive map using bokeh"
   ]
  },
  {
   "cell_type": "code",
   "execution_count": 18,
   "metadata": {
    "collapsed": true
   },
   "outputs": [],
   "source": [
    "from bokeh.io import show, output_file, output_notebook\n",
    "from bokeh.layouts import column, row, widgetbox\n",
    "from bokeh.models import (\n",
    "    CustomJS, \n",
    "    Slider, Toggle, HoverTool, BoxZoomTool, \n",
    "    LogColorMapper, LinearColorMapper\n",
    ")\n",
    "from bokeh.palettes import Reds6 as palette\n",
    "from bokeh.plotting import figure, save\n",
    "from bokeh.resources import CDN"
   ]
  },
  {
   "cell_type": "code",
   "execution_count": 19,
   "metadata": {
    "collapsed": false
   },
   "outputs": [],
   "source": [
    "# Color palette\n",
    "\n",
    "#Orange palette\n",
    "#custom_colors = ['#f2f2f2', '#fee5d9', '#fcbba1', '#fc9272', '#fb6a4a', '#de2d26']\n",
    "\n",
    "#Violete palette\n",
    "custom_colors = ['#f2f0f7', '#dadaeb', '#bcbddc', '#9e9ac8', '#756bb1', '#54278f']\n",
    "\n",
    "color_mapper = LogColorMapper(palette=custom_colors)"
   ]
  },
  {
   "cell_type": "code",
   "execution_count": 20,
   "metadata": {
    "collapsed": false
   },
   "outputs": [
    {
     "data": {
      "text/html": [
       "<div style=\"display: table;\"><div style=\"display: table-row;\"><div style=\"display: table-cell;\"><b title=\"bokeh.models.renderers.GlyphRenderer\">GlyphRenderer</b>(</div><div style=\"display: table-cell;\">id&nbsp;=&nbsp;'b3444ee1-ae80-4e7a-991a-6042adc763f9', <span id=\"063cdbdf-d652-4bf1-86d6-5620a70e9064\" style=\"cursor: pointer;\">&hellip;)</span></div></div><div class=\"213953d9-907d-4007-8785-c8c983289783\" style=\"display: none;\"><div style=\"display: table-cell;\"></div><div style=\"display: table-cell;\">data_source&nbsp;=&nbsp;ColumnDataSource(id='a71f7b82-23ae-490c-9c50-84246347af86', ...),</div></div><div class=\"213953d9-907d-4007-8785-c8c983289783\" style=\"display: none;\"><div style=\"display: table-cell;\"></div><div style=\"display: table-cell;\">glyph&nbsp;=&nbsp;Patches(id='1ffcf497-1622-420d-8a63-a8fb46a53be7', ...),</div></div><div class=\"213953d9-907d-4007-8785-c8c983289783\" style=\"display: none;\"><div style=\"display: table-cell;\"></div><div style=\"display: table-cell;\">hover_glyph&nbsp;=&nbsp;Patches(id='50a7ea56-98da-4523-bc9f-b5ea1556f1ca', ...),</div></div><div class=\"213953d9-907d-4007-8785-c8c983289783\" style=\"display: none;\"><div style=\"display: table-cell;\"></div><div style=\"display: table-cell;\">js_event_callbacks&nbsp;=&nbsp;{},</div></div><div class=\"213953d9-907d-4007-8785-c8c983289783\" style=\"display: none;\"><div style=\"display: table-cell;\"></div><div style=\"display: table-cell;\">js_property_callbacks&nbsp;=&nbsp;{},</div></div><div class=\"213953d9-907d-4007-8785-c8c983289783\" style=\"display: none;\"><div style=\"display: table-cell;\"></div><div style=\"display: table-cell;\">level&nbsp;=&nbsp;'glyph',</div></div><div class=\"213953d9-907d-4007-8785-c8c983289783\" style=\"display: none;\"><div style=\"display: table-cell;\"></div><div style=\"display: table-cell;\">muted&nbsp;=&nbsp;False,</div></div><div class=\"213953d9-907d-4007-8785-c8c983289783\" style=\"display: none;\"><div style=\"display: table-cell;\"></div><div style=\"display: table-cell;\">muted_glyph&nbsp;=&nbsp;None,</div></div><div class=\"213953d9-907d-4007-8785-c8c983289783\" style=\"display: none;\"><div style=\"display: table-cell;\"></div><div style=\"display: table-cell;\">name&nbsp;=&nbsp;None,</div></div><div class=\"213953d9-907d-4007-8785-c8c983289783\" style=\"display: none;\"><div style=\"display: table-cell;\"></div><div style=\"display: table-cell;\">nonselection_glyph&nbsp;=&nbsp;Patches(id='5310c98c-6d89-4d2e-b34c-4b6acdd1516d', ...),</div></div><div class=\"213953d9-907d-4007-8785-c8c983289783\" style=\"display: none;\"><div style=\"display: table-cell;\"></div><div style=\"display: table-cell;\">selection_glyph&nbsp;=&nbsp;None,</div></div><div class=\"213953d9-907d-4007-8785-c8c983289783\" style=\"display: none;\"><div style=\"display: table-cell;\"></div><div style=\"display: table-cell;\">subscribed_events&nbsp;=&nbsp;[],</div></div><div class=\"213953d9-907d-4007-8785-c8c983289783\" style=\"display: none;\"><div style=\"display: table-cell;\"></div><div style=\"display: table-cell;\">tags&nbsp;=&nbsp;[],</div></div><div class=\"213953d9-907d-4007-8785-c8c983289783\" style=\"display: none;\"><div style=\"display: table-cell;\"></div><div style=\"display: table-cell;\">view&nbsp;=&nbsp;CDSView(id='4c9a8f50-259d-486b-a449-4a405403f5c8', ...),</div></div><div class=\"213953d9-907d-4007-8785-c8c983289783\" style=\"display: none;\"><div style=\"display: table-cell;\"></div><div style=\"display: table-cell;\">visible&nbsp;=&nbsp;True,</div></div><div class=\"213953d9-907d-4007-8785-c8c983289783\" style=\"display: none;\"><div style=\"display: table-cell;\"></div><div style=\"display: table-cell;\">x_range_name&nbsp;=&nbsp;'default',</div></div><div class=\"213953d9-907d-4007-8785-c8c983289783\" style=\"display: none;\"><div style=\"display: table-cell;\"></div><div style=\"display: table-cell;\">y_range_name&nbsp;=&nbsp;'default')</div></div></div>\n",
       "<script>\n",
       "(function() {\n",
       "  var expanded = false;\n",
       "  var ellipsis = document.getElementById(\"063cdbdf-d652-4bf1-86d6-5620a70e9064\");\n",
       "  ellipsis.addEventListener(\"click\", function() {\n",
       "    var rows = document.getElementsByClassName(\"213953d9-907d-4007-8785-c8c983289783\");\n",
       "    for (var i = 0; i < rows.length; i++) {\n",
       "      var el = rows[i];\n",
       "      el.style.display = expanded ? \"none\" : \"table-row\";\n",
       "    }\n",
       "    ellipsis.innerHTML = expanded ? \"&hellip;)\" : \"&lsaquo;&lsaquo;&lsaquo;\";\n",
       "    expanded = !expanded;\n",
       "  });\n",
       "})();\n",
       "</script>\n"
      ],
      "text/plain": [
       "GlyphRenderer(id='b3444ee1-ae80-4e7a-991a-6042adc763f9', ...)"
      ]
     },
     "execution_count": 20,
     "metadata": {},
     "output_type": "execute_result"
    }
   ],
   "source": [
    "# Set up plot figure\n",
    "TOOLS = \"pan,wheel_zoom,box_zoom,reset,hover,save\"\n",
    "p = figure(\n",
    "    title=\"Percent of Population with Bachelor Degree or Higher by County\", tools=TOOLS,\n",
    "    x_axis_location=None, y_axis_location=None, plot_width=1200, plot_height=600\n",
    ")\n",
    "p.grid.grid_line_color = None\n",
    "p.patches('x', 'y', source=source,\n",
    "          fill_color={'field': 'rate', 'transform': color_mapper},\n",
    "          fill_alpha=0.8, line_color=\"black\", line_width=0.3,\n",
    "          hover_line_color=\"white\",\n",
    "          #hover_fill_color={'field': 'rate', 'transform': color_mapper}\n",
    "         )\n"
   ]
  },
  {
   "cell_type": "code",
   "execution_count": 21,
   "metadata": {
    "collapsed": false
   },
   "outputs": [],
   "source": [
    "#Set hover tool\n",
    "hover = p.select_one(HoverTool)\n",
    "hover.point_policy = \"follow_mouse\"\n",
    "hover.tooltips = [(\"State\", \"@state\"),(\"County\", \"@name\"),(\"Bach. Degree or Higher (%)\", \"@rate\"),(\"(Long, Lat)\", \"($x, $y)\")]"
   ]
  },
  {
   "cell_type": "code",
   "execution_count": 22,
   "metadata": {
    "collapsed": false
   },
   "outputs": [],
   "source": [
    "#Define output file_path\n",
    "output_file(\"map_interactive_test4.html\")"
   ]
  },
  {
   "cell_type": "code",
   "execution_count": 23,
   "metadata": {
    "collapsed": true
   },
   "outputs": [],
   "source": [
    "# Make a slider object: slider\n",
    "slider = Slider(start=2011, end=2016, step=1, value=2011, title='Year')"
   ]
  },
  {
   "cell_type": "markdown",
   "metadata": {},
   "source": [
    "## Run code below to open map in new browser tab"
   ]
  },
  {
   "cell_type": "code",
   "execution_count": 24,
   "metadata": {
    "collapsed": false
   },
   "outputs": [],
   "source": [
    "def update(source=source, slider=slider, window=None):\n",
    "    \"\"\" Update the map: change the rate density measure according to slider\n",
    "        will be translated to JavaScript and Called in Browser \"\"\"\n",
    "    data = source.data\n",
    "    #v = cb_obj.get('value')\n",
    "    slider_dict = {2011: 0, 2012: 1, 2013: 2, 2014: 3, 2015: 4, 2016: 5}\n",
    "    v = slider_dict[slider.value]\n",
    "    data['rate'] = [x for x in data[str(v)]]\n",
    "    #source.trigger('change')\n",
    "    source.change.emit()\n",
    "    \n",
    "slider.js_on_change('value', CustomJS.from_py_func(update))\n",
    "\n",
    "show(column(p,widgetbox(slider),))\n",
    "#save(obj=column(p,widgetbox(slider),), filename=\"map_interactive_test4.html\")"
   ]
  },
  {
   "cell_type": "code",
   "execution_count": null,
   "metadata": {
    "collapsed": true
   },
   "outputs": [],
   "source": []
  }
 ],
 "metadata": {
  "anaconda-cloud": {},
  "kernelspec": {
   "display_name": "Python [Root]",
   "language": "python",
   "name": "Python [Root]"
  },
  "language_info": {
   "codemirror_mode": {
    "name": "ipython",
    "version": 3
   },
   "file_extension": ".py",
   "mimetype": "text/x-python",
   "name": "python",
   "nbconvert_exporter": "python",
   "pygments_lexer": "ipython3",
   "version": "3.5.5"
  }
 },
 "nbformat": 4,
 "nbformat_minor": 0
}
